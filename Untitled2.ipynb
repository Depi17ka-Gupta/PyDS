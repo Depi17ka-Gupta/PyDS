{
  "nbformat": 4,
  "nbformat_minor": 0,
  "metadata": {
    "colab": {
      "name": "Untitled2.ipynb",
      "provenance": [],
      "authorship_tag": "ABX9TyNgt/N07d8loA3+6ZLVqhF7",
      "include_colab_link": true
    },
    "kernelspec": {
      "name": "python3",
      "display_name": "Python 3"
    }
  },
  "cells": [
    {
      "cell_type": "markdown",
      "metadata": {
        "id": "view-in-github",
        "colab_type": "text"
      },
      "source": [
        "<a href=\"https://colab.research.google.com/github/Depi17ka-Gupta/PyDS/blob/master/Untitled2.ipynb\" target=\"_parent\"><img src=\"https://colab.research.google.com/assets/colab-badge.svg\" alt=\"Open In Colab\"/></a>"
      ]
    },
    {
      "cell_type": "code",
      "metadata": {
        "id": "i_nX-4K6ouK3",
        "colab_type": "code",
        "colab": {}
      },
      "source": [
        "for num in range(1 ,100 + 1):\n",
        "  # all prime numbers are greater than 1\n",
        "  if num > 1:\n",
        "    for i in range(2, num):\n",
        "      if (num % i) == 0:\n",
        "        break\n",
        "        else:\n",
        "          print(num)"
      ],
      "execution_count": 0,
      "outputs": []
    }
  ]
}